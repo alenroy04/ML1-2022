{
 "cells": [
  {
   "cell_type": "markdown",
   "id": "829622fa",
   "metadata": {},
   "source": [
    "# ML1 LAB01 16.04.2022\n",
    "\n",
    "Alen Roy 21BDA17"
   ]
  },
  {
   "cell_type": "markdown",
   "id": "7c7e9829",
   "metadata": {},
   "source": [
    "Python datatypes and structures"
   ]
  },
  {
   "cell_type": "markdown",
   "id": "1d921dc7",
   "metadata": {},
   "source": [
    "Logical: bool\n",
    "\n",
    "Numeric: int, float, complex\n",
    "\n",
    "Sequence: list, tuple, range\n",
    "\n",
    "Text Sequence: str\n",
    "\n",
    "Map: dict\n",
    "\n",
    "Set: set"
   ]
  },
  {
   "cell_type": "code",
   "execution_count": 1,
   "id": "78bfb068",
   "metadata": {},
   "outputs": [
    {
     "name": "stdout",
     "output_type": "stream",
     "text": [
      "5 is of type <class 'int'>\n",
      "2.0 is of type <class 'float'>\n",
      "(1+2j) is complex number? True\n"
     ]
    }
   ],
   "source": [
    "a = 5\n",
    "print(a, \"is of type\", type(a))\n",
    "\n",
    "a = 2.0\n",
    "print(a, \"is of type\", type(a))\n",
    "\n",
    "a = 1+2j\n",
    "print(a, \"is complex number?\", isinstance(1+2j,complex))"
   ]
  },
  {
   "cell_type": "code",
   "execution_count": 2,
   "id": "59d927e5",
   "metadata": {},
   "outputs": [
    {
     "data": {
      "text/plain": [
       "str"
      ]
     },
     "execution_count": 2,
     "metadata": {},
     "output_type": "execute_result"
    }
   ],
   "source": [
    "type(\"wow\")"
   ]
  },
  {
   "cell_type": "code",
   "execution_count": 3,
   "id": "3752bee0",
   "metadata": {},
   "outputs": [
    {
     "data": {
      "text/plain": [
       "list"
      ]
     },
     "execution_count": 3,
     "metadata": {},
     "output_type": "execute_result"
    }
   ],
   "source": [
    "a = [1, 2.2, 'machinw']\n",
    "type(a)"
   ]
  },
  {
   "cell_type": "code",
   "execution_count": null,
   "id": "a845bbab",
   "metadata": {},
   "outputs": [],
   "source": [
    "b=()"
   ]
  },
  {
   "cell_type": "code",
   "execution_count": 4,
   "id": "23c5fe0f",
   "metadata": {},
   "outputs": [
    {
     "name": "stdout",
     "output_type": "stream",
     "text": [
      "a =  {1, 2, 3, 4, 5}\n",
      "<class 'set'>\n"
     ]
    }
   ],
   "source": [
    "a = {5,2,3,1,4}\n",
    "\n",
    "# printing set variable\n",
    "print(\"a = \", a)\n",
    "\n",
    "# data type of variable a\n",
    "print(type(a))"
   ]
  },
  {
   "cell_type": "code",
   "execution_count": 5,
   "id": "fec84082",
   "metadata": {},
   "outputs": [
    {
     "data": {
      "text/plain": [
       "dict"
      ]
     },
     "execution_count": 5,
     "metadata": {},
     "output_type": "execute_result"
    }
   ],
   "source": [
    "d = {1:'kpop','kdrama':2}\n",
    "type(d)"
   ]
  },
  {
   "cell_type": "markdown",
   "id": "fad1bba5",
   "metadata": {},
   "source": [
    "Operators and indexing"
   ]
  },
  {
   "cell_type": "code",
   "execution_count": 8,
   "id": "c8f592b7",
   "metadata": {},
   "outputs": [
    {
     "name": "stdout",
     "output_type": "stream",
     "text": [
      "x[2] =  8\n",
      "x[0:3] =  [2, 5, 8]\n",
      "x[5:] =  [3, 10, 22]\n"
     ]
    }
   ],
   "source": [
    "x = [2,5,8,6,9,3,10,22]\n",
    "\n",
    "# a[2] = 8\n",
    "print(\"x[2] = \", x[2])\n",
    "\n",
    "# a[0:3] = [2, 5, 8]\n",
    "print(\"x[0:3] = \", x[0:3])\n",
    "\n",
    "# a[5:] = [3, 10, 22]\n",
    "print(\"x[5:] = \", x[5:])"
   ]
  },
  {
   "cell_type": "code",
   "execution_count": 9,
   "id": "ba81ffae",
   "metadata": {},
   "outputs": [
    {
     "data": {
      "text/plain": [
       "10"
      ]
     },
     "execution_count": 9,
     "metadata": {},
     "output_type": "execute_result"
    }
   ],
   "source": [
    "x[0]+x[2]"
   ]
  },
  {
   "cell_type": "code",
   "execution_count": 10,
   "id": "95bbb0f8",
   "metadata": {},
   "outputs": [
    {
     "data": {
      "text/plain": [
       "'kimsoo'"
      ]
     },
     "execution_count": 10,
     "metadata": {},
     "output_type": "execute_result"
    }
   ],
   "source": [
    "b = [\"kim\"]\n",
    "c = [\"soo\"]\n",
    "b[0] + c[0] #list concatenation"
   ]
  },
  {
   "cell_type": "code",
   "execution_count": 15,
   "id": "69805b03",
   "metadata": {},
   "outputs": [
    {
     "name": "stdout",
     "output_type": "stream",
     "text": [
      "t[1] =  jungkook\n",
      "t[0:3] =  (25, 'jungkook', (5+3j))\n"
     ]
    }
   ],
   "source": [
    "t = (25,'jungkook', 5+3j)\n",
    "\n",
    "# t[1] = 'jungkook'\n",
    "print(\"t[1] = \", t[1])\n",
    "\n",
    "# t[0:3] = (25, 'jungkook', (5+3j))\n",
    "print(\"t[0:3] = \", t[0:3])"
   ]
  },
  {
   "cell_type": "markdown",
   "id": "cb2c92a8",
   "metadata": {},
   "source": [
    "looping and iteration"
   ]
  },
  {
   "cell_type": "code",
   "execution_count": 26,
   "id": "f9251d2c",
   "metadata": {},
   "outputs": [
    {
     "name": "stdout",
     "output_type": "stream",
     "text": [
      "58\n",
      "65\n",
      "32\n",
      "89\n",
      "54\n",
      "21\n",
      "78\n",
      "10\n",
      "The sum is 407\n",
      "The difference  is -399\n"
     ]
    }
   ],
   "source": [
    "# Program to find the sum of all numbers stored in a list\n",
    "\n",
    "# List of numbers\n",
    "numbers = [58,65,32,89,54,21,78,10]\n",
    "\n",
    "# variable to store the sum\n",
    "sum = 0\n",
    "sub=0\n",
    "# iterate over the list\n",
    "for val in numbers:\n",
    "    print(val)\n",
    "    sum = sum+val\n",
    "    sub=sub-val+1\n",
    "\n",
    "print(\"The sum is\", sum)\n",
    "print(\"The difference  is\",sub)"
   ]
  },
  {
   "cell_type": "code",
   "execution_count": 28,
   "id": "8f5f4df9",
   "metadata": {},
   "outputs": [
    {
     "name": "stdout",
     "output_type": "stream",
     "text": [
      "range(0, 100)\n"
     ]
    }
   ],
   "source": [
    "print(range(100))"
   ]
  },
  {
   "cell_type": "code",
   "execution_count": 30,
   "id": "47715f9c",
   "metadata": {},
   "outputs": [
    {
     "name": "stdout",
     "output_type": "stream",
     "text": [
      "[0, 1, 2, 3, 4, 5, 6, 7, 8, 9, 10, 11, 12, 13, 14, 15, 16, 17, 18, 19, 20, 21, 22, 23, 24, 25, 26, 27, 28, 29, 30, 31, 32, 33, 34, 35, 36, 37, 38, 39, 40, 41, 42, 43, 44, 45, 46, 47, 48, 49, 50, 51, 52, 53, 54, 55, 56, 57, 58, 59, 60, 61, 62, 63, 64, 65, 66, 67, 68, 69, 70, 71, 72, 73, 74, 75, 76, 77, 78, 79, 80, 81, 82, 83, 84, 85, 86, 87, 88, 89, 90, 91, 92, 93, 94, 95, 96, 97, 98, 99]\n"
     ]
    }
   ],
   "source": [
    "print(list(range(100)))"
   ]
  },
  {
   "cell_type": "code",
   "execution_count": 31,
   "id": "7d46898b",
   "metadata": {},
   "outputs": [
    {
     "name": "stdout",
     "output_type": "stream",
     "text": [
      "The sum is 55\n"
     ]
    }
   ],
   "source": [
    "# Program to add natural\n",
    "# numbers up to \n",
    "# sum = 1+2+3+...+n\n",
    "\n",
    "# To take input from the user,\n",
    "# n = int(input(\"Enter n: \"))\n",
    "\n",
    "n = 10\n",
    "\n",
    "# initialize sum and counter\n",
    "sum = 0\n",
    "i = 1\n",
    "\n",
    "while i <= n:\n",
    "    sum = sum + i\n",
    "    i = i+1    # update counter\n",
    "\n",
    "# print the sum\n",
    "print(\"The sum is\", sum)"
   ]
  },
  {
   "cell_type": "markdown",
   "id": "e2cdc614",
   "metadata": {},
   "source": [
    "if-else "
   ]
  },
  {
   "cell_type": "code",
   "execution_count": 17,
   "id": "59efa31a",
   "metadata": {},
   "outputs": [
    {
     "name": "stdout",
     "output_type": "stream",
     "text": [
      "enter the number25\n",
      "odd number\n"
     ]
    }
   ],
   "source": [
    "n=int(input(\"enter the number\"))\n",
    "if (n%2==0):\n",
    "    print(\"even number\")\n",
    "else:\n",
    "    print(\"odd number\")\n"
   ]
  },
  {
   "cell_type": "markdown",
   "id": "d9f6e501",
   "metadata": {},
   "source": [
    "function call"
   ]
  },
  {
   "cell_type": "code",
   "execution_count": 34,
   "id": "a8e4847d",
   "metadata": {},
   "outputs": [
    {
     "name": "stdout",
     "output_type": "stream",
     "text": [
      "addition 16\n",
      "subtraction 8\n",
      "division 3.0\n",
      "multiplication 48\n"
     ]
    }
   ],
   "source": [
    "#functions\n",
    "class cal:\n",
    "    def __init__(self,x,y):\n",
    "        self.x=x\n",
    "        self.y=y\n",
    "    def add(self):\n",
    "        add1=self.x+self.y\n",
    "        print(\"addition\",add1)\n",
    "    def sub(self):\n",
    "        sub1=self.x-self.y\n",
    "        print(\"subtraction\",sub1)\n",
    "    def div(self):\n",
    "        divi=self.x/self.y\n",
    "        print(\"division\",divi)\n",
    "    def mult(self):\n",
    "        multi=self.x*self.y\n",
    "        print(\"multiplication\",multi)\n",
    "a=cal(12,4)\n",
    "a.add()\n",
    "a.sub()\n",
    "a.div()\n",
    "a.mult()\n"
   ]
  },
  {
   "cell_type": "markdown",
   "id": "5f5d9976",
   "metadata": {},
   "source": [
    "slicing "
   ]
  },
  {
   "cell_type": "code",
   "execution_count": 35,
   "id": "ee90eb9b",
   "metadata": {},
   "outputs": [],
   "source": [
    "#calling dataset\n",
    "import numpy as np\n",
    "import pandas as pd\n"
   ]
  },
  {
   "cell_type": "code",
   "execution_count": 84,
   "id": "e7bc0a27",
   "metadata": {},
   "outputs": [
    {
     "data": {
      "text/plain": [
       "array([ 1,  2,  3,  6,  8,  9, 20])"
      ]
     },
     "execution_count": 84,
     "metadata": {},
     "output_type": "execute_result"
    }
   ],
   "source": [
    "a = np.array([1, 2, 3,6,8,9,20])\n",
    "a"
   ]
  },
  {
   "cell_type": "code",
   "execution_count": 85,
   "id": "d2660c88",
   "metadata": {},
   "outputs": [
    {
     "data": {
      "text/plain": [
       "array([20,  9,  8,  6,  3,  2,  1])"
      ]
     },
     "execution_count": 85,
     "metadata": {},
     "output_type": "execute_result"
    }
   ],
   "source": [
    "a[::-1]"
   ]
  },
  {
   "cell_type": "code",
   "execution_count": 86,
   "id": "f0fd1638",
   "metadata": {},
   "outputs": [
    {
     "data": {
      "text/plain": [
       "array([ 1,  3,  8, 20])"
      ]
     },
     "execution_count": 86,
     "metadata": {},
     "output_type": "execute_result"
    }
   ],
   "source": [
    "a[::2]"
   ]
  },
  {
   "cell_type": "code",
   "execution_count": 87,
   "id": "b742ef87",
   "metadata": {},
   "outputs": [
    {
     "data": {
      "text/plain": [
       "array([ 1,  2,  3,  6,  8,  9, 20])"
      ]
     },
     "execution_count": 87,
     "metadata": {},
     "output_type": "execute_result"
    }
   ],
   "source": [
    "a[:]"
   ]
  },
  {
   "cell_type": "code",
   "execution_count": 88,
   "id": "e824a35f",
   "metadata": {},
   "outputs": [
    {
     "data": {
      "text/plain": [
       "array([ 3,  6,  8,  9, 20])"
      ]
     },
     "execution_count": 88,
     "metadata": {},
     "output_type": "execute_result"
    }
   ],
   "source": [
    "a[2::]"
   ]
  },
  {
   "cell_type": "code",
   "execution_count": 79,
   "id": "3823eb81",
   "metadata": {},
   "outputs": [],
   "source": [
    "people_dict = { \"weight\": pd.Series([68, 83, 112],index=[\"jungkook\", \"kim\", \"charles\"]),   \"birthyear\": pd.Series([1994, 1999, 2000], index=[\"kim\", \"jungkook\", \"charles\"], name=\"year\"),\n",
    "\"children\": pd.Series([0, 3], index=[\"charles\", \"kim\"]),\n",
    "\"hobby\": pd.Series([\"skiing\", \"painting\"], index=[\"jungkook\", \"kim\"]),}"
   ]
  },
  {
   "cell_type": "code",
   "execution_count": 80,
   "id": "ed6b8c2e",
   "metadata": {},
   "outputs": [
    {
     "data": {
      "text/html": [
       "<div>\n",
       "<style scoped>\n",
       "    .dataframe tbody tr th:only-of-type {\n",
       "        vertical-align: middle;\n",
       "    }\n",
       "\n",
       "    .dataframe tbody tr th {\n",
       "        vertical-align: top;\n",
       "    }\n",
       "\n",
       "    .dataframe thead th {\n",
       "        text-align: right;\n",
       "    }\n",
       "</style>\n",
       "<table border=\"1\" class=\"dataframe\">\n",
       "  <thead>\n",
       "    <tr style=\"text-align: right;\">\n",
       "      <th></th>\n",
       "      <th>weight</th>\n",
       "      <th>birthyear</th>\n",
       "      <th>children</th>\n",
       "      <th>hobby</th>\n",
       "    </tr>\n",
       "  </thead>\n",
       "  <tbody>\n",
       "    <tr>\n",
       "      <th>charles</th>\n",
       "      <td>112</td>\n",
       "      <td>2000</td>\n",
       "      <td>0.0</td>\n",
       "      <td>NaN</td>\n",
       "    </tr>\n",
       "    <tr>\n",
       "      <th>jungkook</th>\n",
       "      <td>68</td>\n",
       "      <td>1999</td>\n",
       "      <td>NaN</td>\n",
       "      <td>skiing</td>\n",
       "    </tr>\n",
       "    <tr>\n",
       "      <th>kim</th>\n",
       "      <td>83</td>\n",
       "      <td>1994</td>\n",
       "      <td>3.0</td>\n",
       "      <td>painting</td>\n",
       "    </tr>\n",
       "  </tbody>\n",
       "</table>\n",
       "</div>"
      ],
      "text/plain": [
       "          weight  birthyear  children     hobby\n",
       "charles      112       2000       0.0       NaN\n",
       "jungkook      68       1999       NaN    skiing\n",
       "kim           83       1994       3.0  painting"
      ]
     },
     "execution_count": 80,
     "metadata": {},
     "output_type": "execute_result"
    }
   ],
   "source": [
    "people = pd.DataFrame(people_dict)\n",
    "people"
   ]
  },
  {
   "cell_type": "code",
   "execution_count": 81,
   "id": "b87b95da",
   "metadata": {},
   "outputs": [
    {
     "data": {
      "text/html": [
       "<div>\n",
       "<style scoped>\n",
       "    .dataframe tbody tr th:only-of-type {\n",
       "        vertical-align: middle;\n",
       "    }\n",
       "\n",
       "    .dataframe tbody tr th {\n",
       "        vertical-align: top;\n",
       "    }\n",
       "\n",
       "    .dataframe thead th {\n",
       "        text-align: right;\n",
       "    }\n",
       "</style>\n",
       "<table border=\"1\" class=\"dataframe\">\n",
       "  <thead>\n",
       "    <tr style=\"text-align: right;\">\n",
       "      <th></th>\n",
       "      <th>weight</th>\n",
       "      <th>birthyear</th>\n",
       "      <th>children</th>\n",
       "    </tr>\n",
       "  </thead>\n",
       "  <tbody>\n",
       "    <tr>\n",
       "      <th>count</th>\n",
       "      <td>3.000000</td>\n",
       "      <td>3.000000</td>\n",
       "      <td>2.00000</td>\n",
       "    </tr>\n",
       "    <tr>\n",
       "      <th>mean</th>\n",
       "      <td>87.666667</td>\n",
       "      <td>1997.666667</td>\n",
       "      <td>1.50000</td>\n",
       "    </tr>\n",
       "    <tr>\n",
       "      <th>std</th>\n",
       "      <td>22.368132</td>\n",
       "      <td>3.214550</td>\n",
       "      <td>2.12132</td>\n",
       "    </tr>\n",
       "    <tr>\n",
       "      <th>min</th>\n",
       "      <td>68.000000</td>\n",
       "      <td>1994.000000</td>\n",
       "      <td>0.00000</td>\n",
       "    </tr>\n",
       "    <tr>\n",
       "      <th>25%</th>\n",
       "      <td>75.500000</td>\n",
       "      <td>1996.500000</td>\n",
       "      <td>0.75000</td>\n",
       "    </tr>\n",
       "    <tr>\n",
       "      <th>50%</th>\n",
       "      <td>83.000000</td>\n",
       "      <td>1999.000000</td>\n",
       "      <td>1.50000</td>\n",
       "    </tr>\n",
       "    <tr>\n",
       "      <th>75%</th>\n",
       "      <td>97.500000</td>\n",
       "      <td>1999.500000</td>\n",
       "      <td>2.25000</td>\n",
       "    </tr>\n",
       "    <tr>\n",
       "      <th>max</th>\n",
       "      <td>112.000000</td>\n",
       "      <td>2000.000000</td>\n",
       "      <td>3.00000</td>\n",
       "    </tr>\n",
       "  </tbody>\n",
       "</table>\n",
       "</div>"
      ],
      "text/plain": [
       "           weight    birthyear  children\n",
       "count    3.000000     3.000000   2.00000\n",
       "mean    87.666667  1997.666667   1.50000\n",
       "std     22.368132     3.214550   2.12132\n",
       "min     68.000000  1994.000000   0.00000\n",
       "25%     75.500000  1996.500000   0.75000\n",
       "50%     83.000000  1999.000000   1.50000\n",
       "75%     97.500000  1999.500000   2.25000\n",
       "max    112.000000  2000.000000   3.00000"
      ]
     },
     "execution_count": 81,
     "metadata": {},
     "output_type": "execute_result"
    }
   ],
   "source": [
    "people.describe()"
   ]
  },
  {
   "cell_type": "code",
   "execution_count": 82,
   "id": "56c7c5d4",
   "metadata": {},
   "outputs": [
    {
     "data": {
      "text/html": [
       "<div>\n",
       "<style scoped>\n",
       "    .dataframe tbody tr th:only-of-type {\n",
       "        vertical-align: middle;\n",
       "    }\n",
       "\n",
       "    .dataframe tbody tr th {\n",
       "        vertical-align: top;\n",
       "    }\n",
       "\n",
       "    .dataframe thead th {\n",
       "        text-align: right;\n",
       "    }\n",
       "</style>\n",
       "<table border=\"1\" class=\"dataframe\">\n",
       "  <thead>\n",
       "    <tr style=\"text-align: right;\">\n",
       "      <th></th>\n",
       "      <th>weight</th>\n",
       "      <th>birthyear</th>\n",
       "      <th>children</th>\n",
       "    </tr>\n",
       "  </thead>\n",
       "  <tbody>\n",
       "    <tr>\n",
       "      <th>weight</th>\n",
       "      <td>1.000000</td>\n",
       "      <td>0.331463</td>\n",
       "      <td>-1.0</td>\n",
       "    </tr>\n",
       "    <tr>\n",
       "      <th>birthyear</th>\n",
       "      <td>0.331463</td>\n",
       "      <td>1.000000</td>\n",
       "      <td>-1.0</td>\n",
       "    </tr>\n",
       "    <tr>\n",
       "      <th>children</th>\n",
       "      <td>-1.000000</td>\n",
       "      <td>-1.000000</td>\n",
       "      <td>1.0</td>\n",
       "    </tr>\n",
       "  </tbody>\n",
       "</table>\n",
       "</div>"
      ],
      "text/plain": [
       "             weight  birthyear  children\n",
       "weight     1.000000   0.331463      -1.0\n",
       "birthyear  0.331463   1.000000      -1.0\n",
       "children  -1.000000  -1.000000       1.0"
      ]
     },
     "execution_count": 82,
     "metadata": {},
     "output_type": "execute_result"
    }
   ],
   "source": [
    "people.corr()"
   ]
  },
  {
   "cell_type": "code",
   "execution_count": null,
   "id": "7b6d3808",
   "metadata": {},
   "outputs": [],
   "source": []
  },
  {
   "cell_type": "markdown",
   "id": "fa8a657d",
   "metadata": {},
   "source": [
    "python for data science"
   ]
  },
  {
   "cell_type": "code",
   "execution_count": 44,
   "id": "f3709af0",
   "metadata": {},
   "outputs": [],
   "source": [
    "data=pd.read_csv( r\"C:\\Users\\Hp\\Downloads\\adult.csv\")"
   ]
  },
  {
   "cell_type": "code",
   "execution_count": 45,
   "id": "d9b25bb6",
   "metadata": {},
   "outputs": [
    {
     "data": {
      "text/html": [
       "<div>\n",
       "<style scoped>\n",
       "    .dataframe tbody tr th:only-of-type {\n",
       "        vertical-align: middle;\n",
       "    }\n",
       "\n",
       "    .dataframe tbody tr th {\n",
       "        vertical-align: top;\n",
       "    }\n",
       "\n",
       "    .dataframe thead th {\n",
       "        text-align: right;\n",
       "    }\n",
       "</style>\n",
       "<table border=\"1\" class=\"dataframe\">\n",
       "  <thead>\n",
       "    <tr style=\"text-align: right;\">\n",
       "      <th></th>\n",
       "      <th>25</th>\n",
       "      <th>Private</th>\n",
       "      <th>226802</th>\n",
       "      <th>11th</th>\n",
       "      <th>7</th>\n",
       "      <th>Never-married</th>\n",
       "      <th>Machine-op-inspct</th>\n",
       "      <th>Own-child</th>\n",
       "      <th>Black</th>\n",
       "      <th>Male</th>\n",
       "      <th>0</th>\n",
       "      <th>0.1</th>\n",
       "      <th>40</th>\n",
       "      <th>United-States</th>\n",
       "      <th>&lt;=50K.</th>\n",
       "    </tr>\n",
       "  </thead>\n",
       "  <tbody>\n",
       "    <tr>\n",
       "      <th>0</th>\n",
       "      <td>38</td>\n",
       "      <td>Private</td>\n",
       "      <td>89814</td>\n",
       "      <td>HS-grad</td>\n",
       "      <td>9</td>\n",
       "      <td>Married-civ-spouse</td>\n",
       "      <td>Farming-fishing</td>\n",
       "      <td>Husband</td>\n",
       "      <td>White</td>\n",
       "      <td>Male</td>\n",
       "      <td>0</td>\n",
       "      <td>0</td>\n",
       "      <td>50</td>\n",
       "      <td>United-States</td>\n",
       "      <td>&lt;=50K.</td>\n",
       "    </tr>\n",
       "    <tr>\n",
       "      <th>1</th>\n",
       "      <td>28</td>\n",
       "      <td>Local-gov</td>\n",
       "      <td>336951</td>\n",
       "      <td>Assoc-acdm</td>\n",
       "      <td>12</td>\n",
       "      <td>Married-civ-spouse</td>\n",
       "      <td>Protective-serv</td>\n",
       "      <td>Husband</td>\n",
       "      <td>White</td>\n",
       "      <td>Male</td>\n",
       "      <td>0</td>\n",
       "      <td>0</td>\n",
       "      <td>40</td>\n",
       "      <td>United-States</td>\n",
       "      <td>&gt;50K.</td>\n",
       "    </tr>\n",
       "    <tr>\n",
       "      <th>2</th>\n",
       "      <td>44</td>\n",
       "      <td>Private</td>\n",
       "      <td>160323</td>\n",
       "      <td>Some-college</td>\n",
       "      <td>10</td>\n",
       "      <td>Married-civ-spouse</td>\n",
       "      <td>Machine-op-inspct</td>\n",
       "      <td>Husband</td>\n",
       "      <td>Black</td>\n",
       "      <td>Male</td>\n",
       "      <td>7688</td>\n",
       "      <td>0</td>\n",
       "      <td>40</td>\n",
       "      <td>United-States</td>\n",
       "      <td>&gt;50K.</td>\n",
       "    </tr>\n",
       "    <tr>\n",
       "      <th>3</th>\n",
       "      <td>18</td>\n",
       "      <td>?</td>\n",
       "      <td>103497</td>\n",
       "      <td>Some-college</td>\n",
       "      <td>10</td>\n",
       "      <td>Never-married</td>\n",
       "      <td>?</td>\n",
       "      <td>Own-child</td>\n",
       "      <td>White</td>\n",
       "      <td>Female</td>\n",
       "      <td>0</td>\n",
       "      <td>0</td>\n",
       "      <td>30</td>\n",
       "      <td>United-States</td>\n",
       "      <td>&lt;=50K.</td>\n",
       "    </tr>\n",
       "    <tr>\n",
       "      <th>4</th>\n",
       "      <td>34</td>\n",
       "      <td>Private</td>\n",
       "      <td>198693</td>\n",
       "      <td>10th</td>\n",
       "      <td>6</td>\n",
       "      <td>Never-married</td>\n",
       "      <td>Other-service</td>\n",
       "      <td>Not-in-family</td>\n",
       "      <td>White</td>\n",
       "      <td>Male</td>\n",
       "      <td>0</td>\n",
       "      <td>0</td>\n",
       "      <td>30</td>\n",
       "      <td>United-States</td>\n",
       "      <td>&lt;=50K.</td>\n",
       "    </tr>\n",
       "  </tbody>\n",
       "</table>\n",
       "</div>"
      ],
      "text/plain": [
       "   25     Private   226802           11th   7        Never-married  \\\n",
       "0  38     Private    89814        HS-grad   9   Married-civ-spouse   \n",
       "1  28   Local-gov   336951     Assoc-acdm  12   Married-civ-spouse   \n",
       "2  44     Private   160323   Some-college  10   Married-civ-spouse   \n",
       "3  18           ?   103497   Some-college  10        Never-married   \n",
       "4  34     Private   198693           10th   6        Never-married   \n",
       "\n",
       "    Machine-op-inspct       Own-child   Black     Male     0   0.1   40  \\\n",
       "0     Farming-fishing         Husband   White     Male     0     0   50   \n",
       "1     Protective-serv         Husband   White     Male     0     0   40   \n",
       "2   Machine-op-inspct         Husband   Black     Male  7688     0   40   \n",
       "3                   ?       Own-child   White   Female     0     0   30   \n",
       "4       Other-service   Not-in-family   White     Male     0     0   30   \n",
       "\n",
       "    United-States   <=50K.  \n",
       "0   United-States   <=50K.  \n",
       "1   United-States    >50K.  \n",
       "2   United-States    >50K.  \n",
       "3   United-States   <=50K.  \n",
       "4   United-States   <=50K.  "
      ]
     },
     "execution_count": 45,
     "metadata": {},
     "output_type": "execute_result"
    }
   ],
   "source": [
    "data.head()"
   ]
  },
  {
   "cell_type": "code",
   "execution_count": 55,
   "id": "a0884c2a",
   "metadata": {},
   "outputs": [
    {
     "data": {
      "text/html": [
       "<div>\n",
       "<style scoped>\n",
       "    .dataframe tbody tr th:only-of-type {\n",
       "        vertical-align: middle;\n",
       "    }\n",
       "\n",
       "    .dataframe tbody tr th {\n",
       "        vertical-align: top;\n",
       "    }\n",
       "\n",
       "    .dataframe thead th {\n",
       "        text-align: right;\n",
       "    }\n",
       "</style>\n",
       "<table border=\"1\" class=\"dataframe\">\n",
       "  <thead>\n",
       "    <tr style=\"text-align: right;\">\n",
       "      <th></th>\n",
       "      <th>25</th>\n",
       "      <th>Private</th>\n",
       "      <th>226802</th>\n",
       "      <th>11th</th>\n",
       "      <th>7</th>\n",
       "      <th>Never-married</th>\n",
       "      <th>Machine-op-inspct</th>\n",
       "      <th>Own-child</th>\n",
       "      <th>Black</th>\n",
       "      <th>Male</th>\n",
       "      <th>0</th>\n",
       "      <th>0.1</th>\n",
       "      <th>40</th>\n",
       "      <th>United-States</th>\n",
       "      <th>&lt;=50K.</th>\n",
       "    </tr>\n",
       "  </thead>\n",
       "  <tbody>\n",
       "    <tr>\n",
       "      <th>16275</th>\n",
       "      <td>39</td>\n",
       "      <td>Private</td>\n",
       "      <td>215419</td>\n",
       "      <td>Bachelors</td>\n",
       "      <td>13</td>\n",
       "      <td>Divorced</td>\n",
       "      <td>Prof-specialty</td>\n",
       "      <td>Not-in-family</td>\n",
       "      <td>White</td>\n",
       "      <td>Female</td>\n",
       "      <td>0</td>\n",
       "      <td>0</td>\n",
       "      <td>36</td>\n",
       "      <td>United-States</td>\n",
       "      <td>&lt;=50K.</td>\n",
       "    </tr>\n",
       "    <tr>\n",
       "      <th>16276</th>\n",
       "      <td>64</td>\n",
       "      <td>?</td>\n",
       "      <td>321403</td>\n",
       "      <td>HS-grad</td>\n",
       "      <td>9</td>\n",
       "      <td>Widowed</td>\n",
       "      <td>?</td>\n",
       "      <td>Other-relative</td>\n",
       "      <td>Black</td>\n",
       "      <td>Male</td>\n",
       "      <td>0</td>\n",
       "      <td>0</td>\n",
       "      <td>40</td>\n",
       "      <td>United-States</td>\n",
       "      <td>&lt;=50K.</td>\n",
       "    </tr>\n",
       "    <tr>\n",
       "      <th>16277</th>\n",
       "      <td>38</td>\n",
       "      <td>Private</td>\n",
       "      <td>374983</td>\n",
       "      <td>Bachelors</td>\n",
       "      <td>13</td>\n",
       "      <td>Married-civ-spouse</td>\n",
       "      <td>Prof-specialty</td>\n",
       "      <td>Husband</td>\n",
       "      <td>White</td>\n",
       "      <td>Male</td>\n",
       "      <td>0</td>\n",
       "      <td>0</td>\n",
       "      <td>50</td>\n",
       "      <td>United-States</td>\n",
       "      <td>&lt;=50K.</td>\n",
       "    </tr>\n",
       "    <tr>\n",
       "      <th>16278</th>\n",
       "      <td>44</td>\n",
       "      <td>Private</td>\n",
       "      <td>83891</td>\n",
       "      <td>Bachelors</td>\n",
       "      <td>13</td>\n",
       "      <td>Divorced</td>\n",
       "      <td>Adm-clerical</td>\n",
       "      <td>Own-child</td>\n",
       "      <td>Asian-Pac-Islander</td>\n",
       "      <td>Male</td>\n",
       "      <td>5455</td>\n",
       "      <td>0</td>\n",
       "      <td>40</td>\n",
       "      <td>United-States</td>\n",
       "      <td>&lt;=50K.</td>\n",
       "    </tr>\n",
       "    <tr>\n",
       "      <th>16279</th>\n",
       "      <td>35</td>\n",
       "      <td>Self-emp-inc</td>\n",
       "      <td>182148</td>\n",
       "      <td>Bachelors</td>\n",
       "      <td>13</td>\n",
       "      <td>Married-civ-spouse</td>\n",
       "      <td>Exec-managerial</td>\n",
       "      <td>Husband</td>\n",
       "      <td>White</td>\n",
       "      <td>Male</td>\n",
       "      <td>0</td>\n",
       "      <td>0</td>\n",
       "      <td>60</td>\n",
       "      <td>United-States</td>\n",
       "      <td>&gt;50K.</td>\n",
       "    </tr>\n",
       "  </tbody>\n",
       "</table>\n",
       "</div>"
      ],
      "text/plain": [
       "       25        Private   226802        11th   7        Never-married  \\\n",
       "16275  39        Private   215419   Bachelors  13             Divorced   \n",
       "16276  64              ?   321403     HS-grad   9              Widowed   \n",
       "16277  38        Private   374983   Bachelors  13   Married-civ-spouse   \n",
       "16278  44        Private    83891   Bachelors  13             Divorced   \n",
       "16279  35   Self-emp-inc   182148   Bachelors  13   Married-civ-spouse   \n",
       "\n",
       "       Machine-op-inspct        Own-child                Black     Male     0  \\\n",
       "16275     Prof-specialty    Not-in-family                White   Female     0   \n",
       "16276                  ?   Other-relative                Black     Male     0   \n",
       "16277     Prof-specialty          Husband                White     Male     0   \n",
       "16278       Adm-clerical        Own-child   Asian-Pac-Islander     Male  5455   \n",
       "16279    Exec-managerial          Husband                White     Male     0   \n",
       "\n",
       "        0.1   40   United-States   <=50K.  \n",
       "16275     0   36   United-States   <=50K.  \n",
       "16276     0   40   United-States   <=50K.  \n",
       "16277     0   50   United-States   <=50K.  \n",
       "16278     0   40   United-States   <=50K.  \n",
       "16279     0   60   United-States    >50K.  "
      ]
     },
     "execution_count": 55,
     "metadata": {},
     "output_type": "execute_result"
    }
   ],
   "source": [
    "data.tail()\n"
   ]
  },
  {
   "cell_type": "markdown",
   "id": "391441e6",
   "metadata": {},
   "source": [
    "missing value treatment"
   ]
  },
  {
   "cell_type": "code",
   "execution_count": 47,
   "id": "ec468fc4",
   "metadata": {},
   "outputs": [
    {
     "data": {
      "text/plain": [
       "25                    0\n",
       " Private              0\n",
       " 226802               0\n",
       " 11th                 0\n",
       " 7                    0\n",
       " Never-married        0\n",
       " Machine-op-inspct    0\n",
       " Own-child            0\n",
       " Black                0\n",
       " Male                 0\n",
       " 0                    0\n",
       " 0.1                  0\n",
       " 40                   0\n",
       " United-States        0\n",
       " <=50K.               0\n",
       "dtype: int64"
      ]
     },
     "execution_count": 47,
     "metadata": {},
     "output_type": "execute_result"
    }
   ],
   "source": [
    "data.isnull().sum()"
   ]
  },
  {
   "cell_type": "code",
   "execution_count": 48,
   "id": "a1ec86b7",
   "metadata": {},
   "outputs": [],
   "source": [
    "data1=pd.read_csv(r\"C:\\Users\\Hp\\Downloads\\arrhythmia.csv\")"
   ]
  },
  {
   "cell_type": "code",
   "execution_count": 77,
   "id": "890a8dd7",
   "metadata": {},
   "outputs": [
    {
     "data": {
      "text/plain": [
       "(16280, 15)"
      ]
     },
     "execution_count": 77,
     "metadata": {},
     "output_type": "execute_result"
    }
   ],
   "source": [
    "data.shape"
   ]
  },
  {
   "cell_type": "code",
   "execution_count": 50,
   "id": "6d064e46",
   "metadata": {},
   "outputs": [
    {
     "data": {
      "text/plain": [
       "0"
      ]
     },
     "execution_count": 50,
     "metadata": {},
     "output_type": "execute_result"
    }
   ],
   "source": [
    "data.isnull().sum().sum() "
   ]
  },
  {
   "cell_type": "markdown",
   "id": "f2481f74",
   "metadata": {},
   "source": [
    "taking mean from dataset \"data\""
   ]
  },
  {
   "cell_type": "code",
   "execution_count": 51,
   "id": "09be9947",
   "metadata": {},
   "outputs": [
    {
     "data": {
      "text/html": [
       "<div>\n",
       "<style scoped>\n",
       "    .dataframe tbody tr th:only-of-type {\n",
       "        vertical-align: middle;\n",
       "    }\n",
       "\n",
       "    .dataframe tbody tr th {\n",
       "        vertical-align: top;\n",
       "    }\n",
       "\n",
       "    .dataframe thead th {\n",
       "        text-align: right;\n",
       "    }\n",
       "</style>\n",
       "<table border=\"1\" class=\"dataframe\">\n",
       "  <thead>\n",
       "    <tr style=\"text-align: right;\">\n",
       "      <th></th>\n",
       "      <th>25</th>\n",
       "      <th>226802</th>\n",
       "      <th>7</th>\n",
       "      <th>0</th>\n",
       "      <th>0.1</th>\n",
       "      <th>40</th>\n",
       "    </tr>\n",
       "  </thead>\n",
       "  <tbody>\n",
       "    <tr>\n",
       "      <th>count</th>\n",
       "      <td>16280.000000</td>\n",
       "      <td>1.628000e+04</td>\n",
       "      <td>16280.000000</td>\n",
       "      <td>16280.00000</td>\n",
       "      <td>16280.000000</td>\n",
       "      <td>16280.000000</td>\n",
       "    </tr>\n",
       "    <tr>\n",
       "      <th>mean</th>\n",
       "      <td>38.768305</td>\n",
       "      <td>1.894334e+05</td>\n",
       "      <td>10.073096</td>\n",
       "      <td>1081.97156</td>\n",
       "      <td>87.904668</td>\n",
       "      <td>40.392260</td>\n",
       "    </tr>\n",
       "    <tr>\n",
       "      <th>std</th>\n",
       "      <td>13.849192</td>\n",
       "      <td>1.057177e+05</td>\n",
       "      <td>2.567511</td>\n",
       "      <td>7584.16416</td>\n",
       "      <td>403.117078</td>\n",
       "      <td>12.479715</td>\n",
       "    </tr>\n",
       "    <tr>\n",
       "      <th>min</th>\n",
       "      <td>17.000000</td>\n",
       "      <td>1.349200e+04</td>\n",
       "      <td>1.000000</td>\n",
       "      <td>0.00000</td>\n",
       "      <td>0.000000</td>\n",
       "      <td>1.000000</td>\n",
       "    </tr>\n",
       "    <tr>\n",
       "      <th>25%</th>\n",
       "      <td>28.000000</td>\n",
       "      <td>1.167162e+05</td>\n",
       "      <td>9.000000</td>\n",
       "      <td>0.00000</td>\n",
       "      <td>0.000000</td>\n",
       "      <td>40.000000</td>\n",
       "    </tr>\n",
       "    <tr>\n",
       "      <th>50%</th>\n",
       "      <td>37.000000</td>\n",
       "      <td>1.778295e+05</td>\n",
       "      <td>10.000000</td>\n",
       "      <td>0.00000</td>\n",
       "      <td>0.000000</td>\n",
       "      <td>40.000000</td>\n",
       "    </tr>\n",
       "    <tr>\n",
       "      <th>75%</th>\n",
       "      <td>48.000000</td>\n",
       "      <td>2.383840e+05</td>\n",
       "      <td>12.000000</td>\n",
       "      <td>0.00000</td>\n",
       "      <td>0.000000</td>\n",
       "      <td>45.000000</td>\n",
       "    </tr>\n",
       "    <tr>\n",
       "      <th>max</th>\n",
       "      <td>90.000000</td>\n",
       "      <td>1.490400e+06</td>\n",
       "      <td>16.000000</td>\n",
       "      <td>99999.00000</td>\n",
       "      <td>3770.000000</td>\n",
       "      <td>99.000000</td>\n",
       "    </tr>\n",
       "  </tbody>\n",
       "</table>\n",
       "</div>"
      ],
      "text/plain": [
       "                 25        226802             7            0           0.1  \\\n",
       "count  16280.000000  1.628000e+04  16280.000000  16280.00000  16280.000000   \n",
       "mean      38.768305  1.894334e+05     10.073096   1081.97156     87.904668   \n",
       "std       13.849192  1.057177e+05      2.567511   7584.16416    403.117078   \n",
       "min       17.000000  1.349200e+04      1.000000      0.00000      0.000000   \n",
       "25%       28.000000  1.167162e+05      9.000000      0.00000      0.000000   \n",
       "50%       37.000000  1.778295e+05     10.000000      0.00000      0.000000   \n",
       "75%       48.000000  2.383840e+05     12.000000      0.00000      0.000000   \n",
       "max       90.000000  1.490400e+06     16.000000  99999.00000   3770.000000   \n",
       "\n",
       "                 40  \n",
       "count  16280.000000  \n",
       "mean      40.392260  \n",
       "std       12.479715  \n",
       "min        1.000000  \n",
       "25%       40.000000  \n",
       "50%       40.000000  \n",
       "75%       45.000000  \n",
       "max       99.000000  "
      ]
     },
     "execution_count": 51,
     "metadata": {},
     "output_type": "execute_result"
    }
   ],
   "source": [
    "data.describe()"
   ]
  },
  {
   "cell_type": "code",
   "execution_count": 53,
   "id": "b6d8675c",
   "metadata": {},
   "outputs": [
    {
     "name": "stdout",
     "output_type": "stream",
     "text": [
      "<class 'pandas.core.frame.DataFrame'>\n",
      "RangeIndex: 16280 entries, 0 to 16279\n",
      "Data columns (total 15 columns):\n",
      " #   Column              Non-Null Count  Dtype \n",
      "---  ------              --------------  ----- \n",
      " 0   25                  16280 non-null  int64 \n",
      " 1    Private            16280 non-null  object\n",
      " 2    226802             16280 non-null  int64 \n",
      " 3    11th               16280 non-null  object\n",
      " 4    7                  16280 non-null  int64 \n",
      " 5    Never-married      16280 non-null  object\n",
      " 6    Machine-op-inspct  16280 non-null  object\n",
      " 7    Own-child          16280 non-null  object\n",
      " 8    Black              16280 non-null  object\n",
      " 9    Male               16280 non-null  object\n",
      " 10   0                  16280 non-null  int64 \n",
      " 11   0.1                16280 non-null  int64 \n",
      " 12   40                 16280 non-null  int64 \n",
      " 13   United-States      16280 non-null  object\n",
      " 14   <=50K.             16280 non-null  object\n",
      "dtypes: int64(6), object(9)\n",
      "memory usage: 1.9+ MB\n"
     ]
    }
   ],
   "source": [
    "data.info()"
   ]
  },
  {
   "cell_type": "code",
   "execution_count": 65,
   "id": "103b1e4f",
   "metadata": {},
   "outputs": [
    {
     "data": {
      "text/plain": [
       "35    461\n",
       "33    460\n",
       "23    452\n",
       "36    450\n",
       "38    437\n",
       "     ... \n",
       "82      3\n",
       "88      3\n",
       "85      2\n",
       "89      2\n",
       "87      2\n",
       "Name: 25, Length: 73, dtype: int64"
      ]
     },
     "execution_count": 65,
     "metadata": {},
     "output_type": "execute_result"
    }
   ],
   "source": [
    "data[\"25\"].value_counts()"
   ]
  },
  {
   "cell_type": "code",
   "execution_count": 52,
   "id": "949b6aee",
   "metadata": {},
   "outputs": [
    {
     "data": {
      "text/html": [
       "<div>\n",
       "<style scoped>\n",
       "    .dataframe tbody tr th:only-of-type {\n",
       "        vertical-align: middle;\n",
       "    }\n",
       "\n",
       "    .dataframe tbody tr th {\n",
       "        vertical-align: top;\n",
       "    }\n",
       "\n",
       "    .dataframe thead th {\n",
       "        text-align: right;\n",
       "    }\n",
       "</style>\n",
       "<table border=\"1\" class=\"dataframe\">\n",
       "  <thead>\n",
       "    <tr style=\"text-align: right;\">\n",
       "      <th></th>\n",
       "      <th>25</th>\n",
       "      <th>226802</th>\n",
       "      <th>7</th>\n",
       "      <th>0</th>\n",
       "      <th>0.1</th>\n",
       "      <th>40</th>\n",
       "    </tr>\n",
       "  </thead>\n",
       "  <tbody>\n",
       "    <tr>\n",
       "      <th>25</th>\n",
       "      <td>1.000000</td>\n",
       "      <td>-0.076555</td>\n",
       "      <td>0.019873</td>\n",
       "      <td>0.076371</td>\n",
       "      <td>0.055291</td>\n",
       "      <td>0.077059</td>\n",
       "    </tr>\n",
       "    <tr>\n",
       "      <th>226802</th>\n",
       "      <td>-0.076555</td>\n",
       "      <td>1.000000</td>\n",
       "      <td>-0.029871</td>\n",
       "      <td>-0.011750</td>\n",
       "      <td>0.007390</td>\n",
       "      <td>-0.003154</td>\n",
       "    </tr>\n",
       "    <tr>\n",
       "      <th>7</th>\n",
       "      <td>0.019873</td>\n",
       "      <td>-0.029871</td>\n",
       "      <td>1.000000</td>\n",
       "      <td>0.130088</td>\n",
       "      <td>0.083065</td>\n",
       "      <td>0.134902</td>\n",
       "    </tr>\n",
       "    <tr>\n",
       "      <th>0</th>\n",
       "      <td>0.076371</td>\n",
       "      <td>-0.011750</td>\n",
       "      <td>0.130088</td>\n",
       "      <td>1.000000</td>\n",
       "      <td>-0.031111</td>\n",
       "      <td>0.089389</td>\n",
       "    </tr>\n",
       "    <tr>\n",
       "      <th>0.1</th>\n",
       "      <td>0.055291</td>\n",
       "      <td>0.007390</td>\n",
       "      <td>0.083065</td>\n",
       "      <td>-0.031111</td>\n",
       "      <td>1.000000</td>\n",
       "      <td>0.054890</td>\n",
       "    </tr>\n",
       "    <tr>\n",
       "      <th>40</th>\n",
       "      <td>0.077059</td>\n",
       "      <td>-0.003154</td>\n",
       "      <td>0.134902</td>\n",
       "      <td>0.089389</td>\n",
       "      <td>0.054890</td>\n",
       "      <td>1.000000</td>\n",
       "    </tr>\n",
       "  </tbody>\n",
       "</table>\n",
       "</div>"
      ],
      "text/plain": [
       "               25    226802         7         0       0.1        40\n",
       "25       1.000000 -0.076555  0.019873  0.076371  0.055291  0.077059\n",
       " 226802 -0.076555  1.000000 -0.029871 -0.011750  0.007390 -0.003154\n",
       " 7       0.019873 -0.029871  1.000000  0.130088  0.083065  0.134902\n",
       " 0       0.076371 -0.011750  0.130088  1.000000 -0.031111  0.089389\n",
       " 0.1     0.055291  0.007390  0.083065 -0.031111  1.000000  0.054890\n",
       " 40      0.077059 -0.003154  0.134902  0.089389  0.054890  1.000000"
      ]
     },
     "execution_count": 52,
     "metadata": {},
     "output_type": "execute_result"
    }
   ],
   "source": [
    "data.corr()"
   ]
  },
  {
   "cell_type": "code",
   "execution_count": 56,
   "id": "9222dfec",
   "metadata": {},
   "outputs": [
    {
     "name": "stdout",
     "output_type": "stream",
     "text": [
      "Collecting fitter\n",
      "  Downloading fitter-1.4.0.tar.gz (27 kB)\n",
      "Collecting easydev\n",
      "  Downloading easydev-0.12.0.tar.gz (47 kB)\n",
      "Requirement already satisfied: numpy in c:\\users\\hp\\anaconda3\\lib\\site-packages (from fitter) (1.20.1)\n",
      "Requirement already satisfied: matplotlib in c:\\users\\hp\\anaconda3\\lib\\site-packages (from fitter) (3.3.4)\n",
      "Requirement already satisfied: scipy>=0.18 in c:\\users\\hp\\anaconda3\\lib\\site-packages (from fitter) (1.6.2)\n",
      "Requirement already satisfied: pandas in c:\\users\\hp\\anaconda3\\lib\\site-packages (from fitter) (1.2.4)\n",
      "Requirement already satisfied: click in c:\\users\\hp\\anaconda3\\lib\\site-packages (from fitter) (7.1.2)\n",
      "Requirement already satisfied: joblib in c:\\users\\hp\\anaconda3\\lib\\site-packages (from fitter) (1.0.1)\n",
      "Requirement already satisfied: colorama in c:\\users\\hp\\anaconda3\\lib\\site-packages (from easydev->fitter) (0.4.4)\n",
      "Requirement already satisfied: pexpect in c:\\users\\hp\\anaconda3\\lib\\site-packages (from easydev->fitter) (4.8.0)\n",
      "Collecting colorlog\n",
      "  Downloading colorlog-6.6.0-py2.py3-none-any.whl (11 kB)\n",
      "Requirement already satisfied: pillow>=6.2.0 in c:\\users\\hp\\anaconda3\\lib\\site-packages (from matplotlib->fitter) (8.2.0)\n",
      "Requirement already satisfied: kiwisolver>=1.0.1 in c:\\users\\hp\\anaconda3\\lib\\site-packages (from matplotlib->fitter) (1.3.1)\n",
      "Requirement already satisfied: python-dateutil>=2.1 in c:\\users\\hp\\anaconda3\\lib\\site-packages (from matplotlib->fitter) (2.8.1)\n",
      "Requirement already satisfied: cycler>=0.10 in c:\\users\\hp\\anaconda3\\lib\\site-packages (from matplotlib->fitter) (0.10.0)\n",
      "Requirement already satisfied: pyparsing!=2.0.4,!=2.1.2,!=2.1.6,>=2.0.3 in c:\\users\\hp\\anaconda3\\lib\\site-packages (from matplotlib->fitter) (2.4.7)\n",
      "Requirement already satisfied: six in c:\\users\\hp\\anaconda3\\lib\\site-packages (from cycler>=0.10->matplotlib->fitter) (1.15.0)\n",
      "Requirement already satisfied: pytz>=2017.3 in c:\\users\\hp\\anaconda3\\lib\\site-packages (from pandas->fitter) (2021.1)\n",
      "Requirement already satisfied: ptyprocess>=0.5 in c:\\users\\hp\\anaconda3\\lib\\site-packages (from pexpect->easydev->fitter) (0.7.0)\n",
      "Building wheels for collected packages: fitter, easydev\n",
      "  Building wheel for fitter (setup.py): started\n",
      "  Building wheel for fitter (setup.py): finished with status 'done'\n",
      "  Created wheel for fitter: filename=fitter-1.4.0-py3-none-any.whl size=25015 sha256=b76d59d59377209719a8365a67b4cb0e87234df4b2816f1fdeebb47a4f6a18a2\n",
      "  Stored in directory: c:\\users\\hp\\appdata\\local\\pip\\cache\\wheels\\3b\\8e\\cb\\505518075a659232287a9689543b465e2dd9fa662ac8fc8086\n",
      "  Building wheel for easydev (setup.py): started\n",
      "  Building wheel for easydev (setup.py): finished with status 'done'\n",
      "  Created wheel for easydev: filename=easydev-0.12.0-py3-none-any.whl size=64216 sha256=d4fe91de9bf458ce5c3b1254e79f111ce914f362f7cb1915debcd0ea6e31ec0f\n",
      "  Stored in directory: c:\\users\\hp\\appdata\\local\\pip\\cache\\wheels\\e2\\47\\9f\\de01f291cfde341b33383bcf1292b17d64c700d4a12b318a7d\n",
      "Successfully built fitter easydev\n",
      "Installing collected packages: colorlog, easydev, fitter\n",
      "Successfully installed colorlog-6.6.0 easydev-0.12.0 fitter-1.4.0\n"
     ]
    }
   ],
   "source": [
    "!pip install fitter\n",
    "import seaborn as sns\n",
    "from fitter import Fitter, get_common_distributions, get_distributions"
   ]
  },
  {
   "cell_type": "code",
   "execution_count": 58,
   "id": "0eba0d68",
   "metadata": {},
   "outputs": [
    {
     "data": {
      "text/plain": [
       "{'beta': {'a': 1.4280908395451075,\n",
       "  'b': 3.543340667116304,\n",
       "  'loc': 16.634958197176307,\n",
       "  'scale': 76.5657819355961}}"
      ]
     },
     "execution_count": 58,
     "metadata": {},
     "output_type": "execute_result"
    },
    {
     "data": {
      "image/png": "[encoded data removed]",
      "text/plain": [
       "<Figure size 540x360 with 1 Axes>"
      ]
     },
     "metadata": {},
     "output_type": "display_data"
    }
   ],
   "source": [
    "sns.set_style('white')\n",
    "sns.set_context(\"paper\", font_scale = 2)\n",
    "sns.displot(data=data, x=\"25\", kind=\"hist\", bins = 100, aspect = 1.5)\n",
    "five_one = data[\"25\"].values\n",
    "f = Fitter(five_one,\n",
    "           distributions=['gamma',\n",
    "                          'lognorm',\n",
    "                          \"beta\",\n",
    "                          \"burr\",\n",
    "                          \"norm\"])\n",
    "f.fit()\n",
    "f.summary()\n",
    "f.get_best(method = 'sumsquare_error')"
   ]
  },
  {
   "cell_type": "markdown",
   "id": "e644336d",
   "metadata": {},
   "source": [
    "correlation between 2 categorial variable"
   ]
  },
  {
   "cell_type": "code",
   "execution_count": 94,
   "id": "c2e6fb74",
   "metadata": {},
   "outputs": [],
   "source": [
    "ColumnNames=['ID','AGE','GENDER' ,'SALARY', 'BONUS']\n",
    "DataValues=[ [480, 28, 'M', 610000, 'Yes'],\n",
    "             [480, 42, 'M',140000, 'No'],\n",
    "             [480, 29, 'F',420000, 'No'],\n",
    "             [490, 30, 'M',420000, 'No'],\n",
    "             [500, 27, 'M',420000, 'No'],\n",
    "             [510, 34, 'F',190000, 'No'],\n",
    "             [550, 24, 'M',330000, 'Yes'],\n",
    "             [560, 34, 'M',160000, 'Yes'],\n",
    "             [560, 25, 'F',300000, 'Yes'],\n",
    "             [570, 34, 'M',450000, 'Yes'],\n",
    "             [590, 30, 'F',140000, 'Yes'],\n",
    "             [600, 33, 'M',600000, 'Yes'],\n",
    "             [600, 22, 'M',400000, 'Yes'],\n",
    "             [600, 25, 'F',490000, 'Yes'],\n",
    "             [610, 32, 'M',120000, 'Yes']]\n",
    "             "
   ]
  },
  {
   "cell_type": "code",
   "execution_count": 95,
   "id": "f3b1ed57",
   "metadata": {},
   "outputs": [
    {
     "name": "stdout",
     "output_type": "stream",
     "text": [
      "    ID  AGE GENDER  SALARY BONUS\n",
      "0  480   28      M  610000   Yes\n",
      "1  480   42      M  140000    No\n",
      "2  480   29      F  420000    No\n",
      "3  490   30      M  420000    No\n",
      "4  500   27      M  420000    No\n"
     ]
    }
   ],
   "source": [
    "f=pd.DataFrame(data=DataValues,columns=ColumnNames)\n",
    "print(f.head())"
   ]
  },
  {
   "cell_type": "code",
   "execution_count": 96,
   "id": "8b7ffbce",
   "metadata": {},
   "outputs": [
    {
     "name": "stdout",
     "output_type": "stream",
     "text": [
      "BONUS   No  Yes\n",
      "GENDER         \n",
      "F        2    3\n",
      "M        3    7\n"
     ]
    }
   ],
   "source": [
    "CrosstabResult=pd.crosstab(index=f['GENDER'],columns=f['BONUS'])\n",
    "print(CrosstabResult)"
   ]
  },
  {
   "cell_type": "code",
   "execution_count": 97,
   "id": "3571b55f",
   "metadata": {},
   "outputs": [
    {
     "name": "stdout",
     "output_type": "stream",
     "text": [
      "The P-Value of the ChiSq Test is: 0.8464505968765906\n"
     ]
    }
   ],
   "source": [
    "\n",
    "# importing the required function\n",
    "from scipy.stats import chi2_contingency\n",
    " \n",
    "# Performing Chi-sq test\n",
    "ChiSqResult = chi2_contingency(CrosstabResult)\n",
    " \n",
    "# P-Value is the Probability of H0 being True\n",
    "# If P-Value&gt;0.05 then only we Accept the assumption(H0)\n",
    " \n",
    "print('The P-Value of the ChiSq Test is:', ChiSqResult[1])"
   ]
  },
  {
   "cell_type": "code",
   "execution_count": null,
   "id": "c256f90f",
   "metadata": {},
   "outputs": [],
   "source": []
  }
 ],
 "metadata": {
  "kernelspec": {
   "display_name": "Python 3",
   "language": "python",
   "name": "python3"
  },
  "language_info": {
   "codemirror_mode": {
    "name": "ipython",
    "version": 3
   },
   "file_extension": ".py",
   "mimetype": "text/x-python",
   "name": "python",
   "nbconvert_exporter": "python",
   "pygments_lexer": "ipython3",
   "version": "3.8.8"
  }
 },
 "nbformat": 4,
 "nbformat_minor": 5
}
